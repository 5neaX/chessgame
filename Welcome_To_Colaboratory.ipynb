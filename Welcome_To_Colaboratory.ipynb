{
  "cells": [
    {
      "cell_type": "markdown",
      "metadata": {
        "id": "view-in-github",
        "colab_type": "text"
      },
      "source": [
        "<a href=\"https://colab.research.google.com/github/5neaX/chessgame/blob/main/Welcome_To_Colaboratory.ipynb\" target=\"_parent\"><img src=\"https://colab.research.google.com/assets/colab-badge.svg\" alt=\"Open In Colab\"/></a>"
      ]
    },
    {
      "cell_type": "markdown",
      "source": [
        ""
      ],
      "metadata": {
        "id": "BZb4JSozQeYt"
      }
    },
    {
      "cell_type": "code",
      "source": [
        "# Installing dependencies\n",
        "!pip install python-chess"
      ],
      "metadata": {
        "id": "DbTRktvTRwYT",
        "outputId": "29042845-c5eb-491b-bdc6-69938270ad53",
        "colab": {
          "base_uri": "https://localhost:8080/"
        }
      },
      "execution_count": 105,
      "outputs": [
        {
          "output_type": "stream",
          "name": "stdout",
          "text": [
            "Requirement already satisfied: python-chess in /usr/local/lib/python3.7/dist-packages (0.23.11)\n"
          ]
        }
      ]
    },
    {
      "cell_type": "code",
      "source": [
        "import chess\n",
        "import random\n",
        "import math\n",
        "from math import inf \n",
        "from chess import Board, Move\n",
        "\n",
        "from P6_Assignment2_Notebook_PythonChess_Agent import ChessAgent\n",
        "from P6_Assignment2_Notebook_PythonChess_Env import play_game, zobrist_hash\n",
        "\n",
        "\n"
      ],
      "metadata": {
        "id": "MKT7b8tUR0JZ"
      },
      "execution_count": 106,
      "outputs": []
    },
    {
      "cell_type": "code",
      "source": [
        "# Openings to investigate\n",
        "# CAUTION: Will take time on higher depths ( > 3)\n",
        "\n",
        "ClosedSicilianDefence = 'rnbqkbnr/pp1ppppp/8/2p5/4P3/2N5/PPPP1PPP/R1BQKBNR b KQkq - 1 2'\n",
        "ViennaOpenning = 'rnbqkbnr/pppp1ppp/8/4p3/4P3/2N5/PPPP1PPP/R1BQKBNR b KQkq - 1 2'\n",
        "NimzoIndianDefence = 'rnbqk2r/pppp1ppp/4pn2/8/1bPP4/2N5/PP2PPPP/R1BQKBNR w KQkq - 2 4'\n",
        "SlavDefence = 'rnbqkbnr/pp2pppp/2p5/3p4/2PP4/8/PP2PPPP/RNBQKBNR w KQkq - 0 3'\n",
        "QueenzGambit = 'rnbqkbnr/ppp1pppp/8/3p4/2PP4/8/PP2PPPP/RNBQKBNR b KQkq c3 0 2'\n",
        "RuyLopez = 'r1bqkbnr/pppp1ppp/2n5/1B2p3/4P3/5N2/PPPP1PPP/RNBQK2R b KQkq - 3 3'"
      ],
      "metadata": {
        "id": "7ya35Mj3R3P5"
      },
      "execution_count": 107,
      "outputs": []
    },
    {
      "cell_type": "code",
      "source": [
        "# Simple End Games - White Wins\n",
        "WhiteQueenMate_M1 = '7k/8/6K1/6Q1/8/8/8/8 w - - 0 1'\n",
        "WhiteKingRookMate_M1 = '7k/8/6K1/8/8/8/8/5R2 w - - 0 1'\n",
        "WhiteTwoRooksMate_M2 = 'K5k1/8/8/8/8/8/5R2/4R3 w - - 0 1'\n",
        "WhiteKingRookMate_M2 = '6k1/8/5RK1/8/8/8/8/8 w - - 0 1'\n",
        "\n",
        "# Simple End Games - Black Wins\n",
        "BlackQueenMate_M1 = '8/8/8/8/5q2/6k1/8/7K b - - 0 1'\n",
        "BlackKingRookMate_M1 = '8/8/8/8/8/5rk1/8/7K b - - 0 1'\n",
        "BlackTwoRooksMate_M2 = '8/K5k1/8/8/8/8/3r4/2r5 b - - 0 1'\n",
        "BlackKingRookMate_M1 = '8/8/8/8/8/5rk1/8/7K b - - 0 1'\n",
        "\n",
        "# Deeper End Games - Black Wins\n",
        "BlackTwoRooksMate_M2 = 'rrk5/8/8/8/8/8/8/4K3 b - - 0 1'\n",
        "BlackQueenRookMate_M2 = 'qr1k4/8/8/8/8/8/8/4K3 b - - 0 1'\n",
        "BlackRookKingMate_M13 = 'r2k4/8/8/8/8/8/8/4K3 b - - 0 1'\n",
        "BlackQueenKingMate_M8 = 'q2k4/8/8/8/8/8/8/4K3 b - - 0 1'\n",
        "\n",
        "# Deeper End Games - White Wins\n",
        "WhiteTwoRooksMate_M3 = '3k4/8/8/8/8/8/8/4KRR1 w - - 0 1'\n",
        "WhiteQueenRookMate_M2 = '3k4/8/8/8/8/8/8/4KRQ1 w - - 0 1'\n",
        "WhiteRookKingMate_M20 = '3k4/8/8/8/8/8/8/4KR2 w - - 0 1'\n",
        "WhiteQueenKingMate_M7 = '3k4/8/8/8/8/8/8/4K1Q1 w - - 0 1'\n",
        "\n",
        "# End Games - Forcing Draw\n",
        "WhitePromote2ForceDraw = '8/3P1k2/2q5/4K3/8/8/8/8 w - - 0 1'\n",
        "BlackPromote2ForceDraw = '8/8/8/2k5/8/3K4/4p1Q1/8 b - - 0 1'\n",
        "\n",
        "# Early Mate - White Wins\n",
        "WhiteEarlyGame_M1 = 'rnbqkbnr/ppppp2p/8/5pp1/4P2P/8/PPPP1PP1/RNBQKBNR w KQkq - 0 1'\n",
        "WhiteMidgame_h5SmutherMate_M5 = '2nrkbn1/pp1bp3/2qprp1p/6p1/4P2P/2NP1N2/PPP2PP1/R1BQKB1R w KQ - 0 1'\n",
        "\n",
        "# White must NOT take on f7 using the Knight. Instead it should take with the light-square Bishop\n",
        "WhiteAntiTraxler = 'r1bqk2r/pppp1ppp/2n2n2/2b1p1N1/2B1P3/8/PPPP1PPP/RNBQK2R w KQkq - 0 1'\n",
        "\n",
        "# Black must ignore the fork by the white knight on f7 (forking queen and rook) and \n",
        "# insted sacrifice the dark-square bishop by taking on f2 with a check and chase down \n",
        "# the white king\n",
        "BlackTraxler = 'r1bqk2r/pppp1Npp/2n2n2/2b1p3/2B1P3/8/PPPP1PPP/RNBQK2R b KQkq - 0 1'\n",
        "\n",
        "# Courtsey of International Master Eric Rosen\n",
        "# Black must ignore the mate thread of the pawn on e7 (e.g. white to capture the \n",
        "# black queen deliver mate). Instead, black must sacrifice dark-square bishop on \n",
        "# c5 by taking the white pawn on f2 with a check. The white king must take the \n",
        "# bishop (only move). Then black queen can take the white queen for free.\n",
        "IMROSEN = 'rnbqk2r/ppp1Pppp/8/2b5/8/5N2/PPP1PPPP/RNBQKB1R b KQkq - 0 1'\n",
        "\n",
        "# Black to sacrifice the queen on d2. White to refuse \n",
        "WhiteBackrankTemptation = '1k2r3/ppp5/3p4/6q1/8/8/5PPP/3R2K1 b - - 0 1'\n",
        "BlackBackrankDecision = '1k2r3/ppp5/3p4/8/3q4/8/5PPP/3R2K1 w - - 0 1'\n",
        "\n",
        "WhiteQueenSacMate2 = 'r1bqk2r/ppppnp1p/2n3p1/3N2B1/2Pb4/8/PP2PPPP/R2QKB1R w KQkq - 0 1'\n",
        "\n",
        "# White must sacrifice the queen (only move) to prevent mate. \n",
        "WhiteMidgamePreventM1 = 'r1b1kbnr/pppp1Npp/8/8/2Bnq3/8/PPPP1P1P/RNBQKR2 w Qkq - 0 1'\n",
        "\n",
        "# Same position where white spared the queen and blocked with the bishop. \n",
        "# Black must deliver mate with Nf3\n",
        "BlackMidgameMate_M1 = 'r1b1kbnr/pppp1Npp/8/8/3nq3/8/PPPPBP1P/RNBQKR2 b Qkq - 0 1'\n",
        "\n"
      ],
      "metadata": {
        "id": "9RHJpFeIR4DO"
      },
      "execution_count": 108,
      "outputs": []
    },
    {
      "cell_type": "code",
      "source": [
        "# Sample scoring function\n",
        "\n",
        "def isDraw(board):\n",
        "    return (board.is_fivefold_repetition() or\n",
        "            board.is_seventyfive_moves() or \n",
        "            board.is_insufficient_material() or\n",
        "            board.is_stalemate() or\n",
        "            board.can_claim_draw() or \n",
        "            board.can_claim_fifty_moves() or\n",
        "            board.can_claim_threefold_repetition())\n",
        "\n",
        "def drawScore(board):\n",
        "    return not isDraw(board)\n",
        "\n",
        "def mateScore(board):\n",
        "    return 1000 if board.is_checkmate() else 0\n",
        "\n",
        "def boardScore(board, color):\n",
        "    score = 0\n",
        "    for piece, value in [(chess.ROOK, 5), \n",
        "                        (chess.QUEEN, 9), \n",
        "                        (chess.BISHOP, 3), \n",
        "                        (chess.KNIGHT, 3), \n",
        "                        (chess.PAWN, 1), \n",
        "                        (chess.KING, 0)]:\n",
        "        score += len(board.pieces(piece, color)) * value\n",
        "        score -= len(board.pieces(piece, not color)) * value\n",
        "        pass\n",
        "    \n",
        "    score += mateScore(board)   # Check mate score\n",
        "    score *= drawScore(board)   # Neutralise for draw\n",
        "    \n",
        "    return score\n"
      ],
      "metadata": {
        "id": "YWPQknOKSFkP"
      },
      "execution_count": 109,
      "outputs": []
    },
    {
      "cell_type": "code",
      "source": [
        "# Quick Helper Functions\n",
        "def newBoard():\n",
        "    return chess.Board()\n",
        "\n",
        "def resetBoard(b):\n",
        "    return b.reset()\n",
        "\n",
        "def showBoard(b):\n",
        "    # Only shows a single instance. Cannot be used in a loop.\n",
        "    # To visualise the game use playGame(whiteAgent, blackAgent, ...)\n",
        "    return chess.svg.board(b)\n",
        "\n",
        "def randomMove(b):\n",
        "    return random.choice(list(b.legal_moves))\n",
        "\n",
        "def legalMoves(b):\n",
        "    return list(b.legal_moves)\n",
        "\n",
        "def makeMove(b, mv):\n",
        "    return b.push(mv)\n",
        "    \n",
        "def takeBack(b):\n",
        "    return b.pop(mv)\n",
        "\n",
        "def zobristHash(b):\n",
        "    return zobrist_hash(b)\n",
        "    \n",
        "def playGame(whiteAgent, blackAgent, \n",
        "             fen='rnbqkbnr/pppppppp/8/8/8/8/PPPPPPPP/RNBQKBNR w KQkq - 0 1', \n",
        "             scoreFunc=boardScore,\n",
        "             dtime=.01):\n",
        "    return play_game(whiteAgent, blackAgent, \n",
        "                     fen=fen,\n",
        "                     pause=dtime)"
      ],
      "metadata": {
        "id": "YsebewlDSKkR"
      },
      "execution_count": 110,
      "outputs": []
    },
    {
      "cell_type": "code",
      "source": [
        "class RandomChessAgent(ChessAgent):\n",
        "    def getAction(self, board):\n",
        "        # get a move object\n",
        "        move = random.choice(list(board.legal_moves))\n",
        "        \n",
        "        # convert move object to UCI standard (d2d4 --> move d2 pawn to d4)\n",
        "        moveUCI = move.uci()\n",
        "        \n",
        "        # return move\n",
        "        return moveUCI\n",
        "    "
      ],
      "metadata": {
        "id": "IuiD2RmPSPui"
      },
      "execution_count": 111,
      "outputs": []
    },
    {
      "cell_type": "code",
      "source": [
        "class MinMaxChessAgent(ChessAgent):\n",
        "    def __init__(self,chessagent,depth=3,verbose=False):\n",
        "        super().__init__(chessagent, \"MinMaxAlphaBetaSearch\")\n",
        "        self.depth=depth\n",
        "        self.verbose=verbose \n",
        "        # e.g. self.transpositionTable = dict()\n",
        "        pass\n",
        "    \n",
        "    def score(self, board):\n",
        "        score = 0\n",
        "        \n",
        "        # Your code goes here ...\n",
        "        # Check the sample score function for ideas ...\n",
        "        # Consult the chess-python docs at https://python-chess.readthedocs.io/en/latest/\n",
        "        \n",
        "        return score\n",
        "    \n",
        "    def _MinMaxSearch(self, board,chessagent, depth=3):\n",
        "        bestAction = random.choice(list(board.legal_moves))\n",
        "        \n",
        "       \n",
        "      \n",
        "        return bestAction\n",
        "    \n",
        "    def _MinMaxAlphaBetaSearch(self, board,chessagent, alpha=-inf, beta=inf, depth =3):\n",
        "        if depth==0:\n",
        "           return [board, self.chessagent,boardScore, None]\n",
        "        bestAction = random.choice(list(board.legal_moves))\n",
        "        \n",
        "        \n",
        "        \n",
        "        return bestAction\n",
        "    \n",
        "    def MinMaxAlphaBetaTranspositionSearch(self, board, \n",
        "                                           # ... other search-specific parameters\n",
        "                                           alpha=-inf, beta=inf,\n",
        "                                           depth=3):\n",
        "        bestAction = random.choice(list(board.legal_moves))\n",
        "        \n",
        "        return bestAction\n",
        "    \n",
        "    def getAction(self, board):\n",
        "        # get a move object\n",
        "        move = self._MinMaxAlphaBetaSearch(board, ChessAgent)\n",
        "        \n",
        "        # convert move object to UCI standard (d2d4 --> move d2 pawn to d4)\n",
        "        moveUCI = move.uci()\n",
        "        \n",
        "        # return move\n",
        "        return moveUCI"
      ],
      "metadata": {
        "id": "CY7eIZA_SSqD"
      },
      "execution_count": 182,
      "outputs": []
    },
    {
      "cell_type": "code",
      "source": [
        "playGame(whiteAgent=MinMaxChessAgent(ChessAgent), \n",
        "         blackAgent=RandomChessAgent(ChessAgent), \n",
        "         # fen=BlackTraxler,\n",
        "         # fen='rnbqk2r/ppp1Pppp/8/2b5/8/5N2/PPP1PPPP/RNBQKB1R b KQkq - 0 1',\n",
        "         # fen=WhiteTwoRooksMate_M3,\n",
        "         dtime=.05)"
      ],
      "metadata": {
        "id": "tNWQkamiv8ed",
        "outputId": "4f25b438-a832-4fa2-b8a3-f2850043bbf1",
        "colab": {
          "base_uri": "https://localhost:8080/",
          "height": 526
        }
      },
      "execution_count": 183,
      "outputs": [
        {
          "output_type": "display_data",
          "data": {
            "text/plain": [
              "<IPython.core.display.HTML object>"
            ],
            "text/html": [
              "<b>Move 341 White, Play 'c7c8n', Score: 0</b><br/><svg height=\"400\" version=\"1.1\" viewBox=\"0 0 400 400\" width=\"400\" xmlns=\"http://www.w3.org/2000/svg\" xmlns:xlink=\"http://www.w3.org/1999/xlink\"><defs><g class=\"white knight\" fill=\"none\" fill-rule=\"evenodd\" id=\"white-knight\" stroke=\"#000\" stroke-linecap=\"round\" stroke-linejoin=\"round\" stroke-width=\"1.5\"><path d=\"M 22,10 C 32.5,11 38.5,18 38,39 L 15,39 C 15,30 25,32.5 23,18\" style=\"fill:#ffffff; stroke:#000000;\" /><path d=\"M 24,18 C 24.38,20.91 18.45,25.37 16,27 C 13,29 13.18,31.34 11,31 C 9.958,30.06 12.41,27.96 11,28 C 10,28 11.19,29.23 10,30 C 9,30 5.997,31 6,26 C 6,24 12,14 12,14 C 12,14 13.89,12.1 14,10.5 C 13.27,9.506 13.5,8.5 13.5,7.5 C 14.5,6.5 16.5,10 16.5,10 L 18.5,10 C 18.5,10 19.28,8.008 21,7 C 22,7 22,10 22,10\" style=\"fill:#ffffff; stroke:#000000;\" /><path d=\"M 9.5 25.5 A 0.5 0.5 0 1 1 8.5,25.5 A 0.5 0.5 0 1 1 9.5 25.5 z\" style=\"fill:#000000; stroke:#000000;\" /><path d=\"M 15 15.5 A 0.5 1.5 0 1 1 14,15.5 A 0.5 1.5 0 1 1 15 15.5 z\" style=\"fill:#000000; stroke:#000000;\" transform=\"matrix(0.866,0.5,-0.5,0.866,9.693,-5.173)\" /></g><g class=\"white king\" fill=\"none\" fill-rule=\"evenodd\" id=\"white-king\" stroke=\"#000\" stroke-linecap=\"round\" stroke-linejoin=\"round\" stroke-width=\"1.5\"><path d=\"M22.5 11.63V6M20 8h5\" stroke-linejoin=\"miter\" /><path d=\"M22.5 25s4.5-7.5 3-10.5c0 0-1-2.5-3-2.5s-3 2.5-3 2.5c-1.5 3 3 10.5 3 10.5\" fill=\"#fff\" stroke-linecap=\"butt\" stroke-linejoin=\"miter\" /><path d=\"M11.5 37c5.5 3.5 15.5 3.5 21 0v-7s9-4.5 6-10.5c-4-6.5-13.5-3.5-16 4V27v-3.5c-3.5-7.5-13-10.5-16-4-3 6 5 10 5 10V37z\" fill=\"#fff\" /><path d=\"M11.5 30c5.5-3 15.5-3 21 0m-21 3.5c5.5-3 15.5-3 21 0m-21 3.5c5.5-3 15.5-3 21 0\" /></g><g class=\"black king\" fill=\"none\" fill-rule=\"evenodd\" id=\"black-king\" stroke=\"#000\" stroke-linecap=\"round\" stroke-linejoin=\"round\" stroke-width=\"1.5\"><path d=\"M22.5 11.63V6\" stroke-linejoin=\"miter\" /><path d=\"M22.5 25s4.5-7.5 3-10.5c0 0-1-2.5-3-2.5s-3 2.5-3 2.5c-1.5 3 3 10.5 3 10.5\" fill=\"#000\" stroke-linecap=\"butt\" stroke-linejoin=\"miter\" /><path d=\"M11.5 37c5.5 3.5 15.5 3.5 21 0v-7s9-4.5 6-10.5c-4-6.5-13.5-3.5-16 4V27v-3.5c-3.5-7.5-13-10.5-16-4-3 6 5 10 5 10V37z\" fill=\"#000\" /><path d=\"M20 8h5\" stroke-linejoin=\"miter\" /><path d=\"M32 29.5s8.5-4 6.03-9.65C34.15 14 25 18 22.5 24.5l.01 2.1-.01-2.1C20 18 9.906 14 6.997 19.85c-2.497 5.65 4.853 9 4.853 9M11.5 30c5.5-3 15.5-3 21 0m-21 3.5c5.5-3 15.5-3 21 0m-21 3.5c5.5-3 15.5-3 21 0\" stroke=\"#fff\" /></g></defs><rect class=\"square dark a1\" fill=\"#d18b47\" height=\"45\" stroke=\"none\" width=\"45\" x=\"20\" y=\"335\" /><rect class=\"square light b1\" fill=\"#ffce9e\" height=\"45\" stroke=\"none\" width=\"45\" x=\"65\" y=\"335\" /><rect class=\"square dark c1\" fill=\"#d18b47\" height=\"45\" stroke=\"none\" width=\"45\" x=\"110\" y=\"335\" /><rect class=\"square light d1\" fill=\"#ffce9e\" height=\"45\" stroke=\"none\" width=\"45\" x=\"155\" y=\"335\" /><rect class=\"square dark e1\" fill=\"#d18b47\" height=\"45\" stroke=\"none\" width=\"45\" x=\"200\" y=\"335\" /><rect class=\"square light f1\" fill=\"#ffce9e\" height=\"45\" stroke=\"none\" width=\"45\" x=\"245\" y=\"335\" /><rect class=\"square dark g1\" fill=\"#d18b47\" height=\"45\" stroke=\"none\" width=\"45\" x=\"290\" y=\"335\" /><rect class=\"square light h1\" fill=\"#ffce9e\" height=\"45\" stroke=\"none\" width=\"45\" x=\"335\" y=\"335\" /><rect class=\"square light a2\" fill=\"#ffce9e\" height=\"45\" stroke=\"none\" width=\"45\" x=\"20\" y=\"290\" /><rect class=\"square dark b2\" fill=\"#d18b47\" height=\"45\" stroke=\"none\" width=\"45\" x=\"65\" y=\"290\" /><rect class=\"square light c2\" fill=\"#ffce9e\" height=\"45\" stroke=\"none\" width=\"45\" x=\"110\" y=\"290\" /><rect class=\"square dark d2\" fill=\"#d18b47\" height=\"45\" stroke=\"none\" width=\"45\" x=\"155\" y=\"290\" /><rect class=\"square light e2\" fill=\"#ffce9e\" height=\"45\" stroke=\"none\" width=\"45\" x=\"200\" y=\"290\" /><rect class=\"square dark f2\" fill=\"#d18b47\" height=\"45\" stroke=\"none\" width=\"45\" x=\"245\" y=\"290\" /><rect class=\"square light g2\" fill=\"#ffce9e\" height=\"45\" stroke=\"none\" width=\"45\" x=\"290\" y=\"290\" /><rect class=\"square dark h2\" fill=\"#d18b47\" height=\"45\" stroke=\"none\" width=\"45\" x=\"335\" y=\"290\" /><rect class=\"square dark a3\" fill=\"#d18b47\" height=\"45\" stroke=\"none\" width=\"45\" x=\"20\" y=\"245\" /><rect class=\"square light b3\" fill=\"#ffce9e\" height=\"45\" stroke=\"none\" width=\"45\" x=\"65\" y=\"245\" /><rect class=\"square dark c3\" fill=\"#d18b47\" height=\"45\" stroke=\"none\" width=\"45\" x=\"110\" y=\"245\" /><rect class=\"square light d3\" fill=\"#ffce9e\" height=\"45\" stroke=\"none\" width=\"45\" x=\"155\" y=\"245\" /><rect class=\"square dark e3\" fill=\"#d18b47\" height=\"45\" stroke=\"none\" width=\"45\" x=\"200\" y=\"245\" /><rect class=\"square light f3\" fill=\"#ffce9e\" height=\"45\" stroke=\"none\" width=\"45\" x=\"245\" y=\"245\" /><rect class=\"square dark g3\" fill=\"#d18b47\" height=\"45\" stroke=\"none\" width=\"45\" x=\"290\" y=\"245\" /><rect class=\"square light h3\" fill=\"#ffce9e\" height=\"45\" stroke=\"none\" width=\"45\" x=\"335\" y=\"245\" /><rect class=\"square light a4\" fill=\"#ffce9e\" height=\"45\" stroke=\"none\" width=\"45\" x=\"20\" y=\"200\" /><rect class=\"square dark b4\" fill=\"#d18b47\" height=\"45\" stroke=\"none\" width=\"45\" x=\"65\" y=\"200\" /><rect class=\"square light c4\" fill=\"#ffce9e\" height=\"45\" stroke=\"none\" width=\"45\" x=\"110\" y=\"200\" /><rect class=\"square dark d4\" fill=\"#d18b47\" height=\"45\" stroke=\"none\" width=\"45\" x=\"155\" y=\"200\" /><rect class=\"square light e4\" fill=\"#ffce9e\" height=\"45\" stroke=\"none\" width=\"45\" x=\"200\" y=\"200\" /><rect class=\"square dark f4\" fill=\"#d18b47\" height=\"45\" stroke=\"none\" width=\"45\" x=\"245\" y=\"200\" /><rect class=\"square light g4\" fill=\"#ffce9e\" height=\"45\" stroke=\"none\" width=\"45\" x=\"290\" y=\"200\" /><rect class=\"square dark h4\" fill=\"#d18b47\" height=\"45\" stroke=\"none\" width=\"45\" x=\"335\" y=\"200\" /><rect class=\"square dark a5\" fill=\"#d18b47\" height=\"45\" stroke=\"none\" width=\"45\" x=\"20\" y=\"155\" /><rect class=\"square light b5\" fill=\"#ffce9e\" height=\"45\" stroke=\"none\" width=\"45\" x=\"65\" y=\"155\" /><rect class=\"square dark c5\" fill=\"#d18b47\" height=\"45\" stroke=\"none\" width=\"45\" x=\"110\" y=\"155\" /><use transform=\"translate(110, 155)\" xlink:href=\"#black-king\" /><rect class=\"square light d5\" fill=\"#ffce9e\" height=\"45\" stroke=\"none\" width=\"45\" x=\"155\" y=\"155\" /><rect class=\"square dark e5\" fill=\"#d18b47\" height=\"45\" stroke=\"none\" width=\"45\" x=\"200\" y=\"155\" /><rect class=\"square light f5\" fill=\"#ffce9e\" height=\"45\" stroke=\"none\" width=\"45\" x=\"245\" y=\"155\" /><rect class=\"square dark g5\" fill=\"#d18b47\" height=\"45\" stroke=\"none\" width=\"45\" x=\"290\" y=\"155\" /><rect class=\"square light h5\" fill=\"#ffce9e\" height=\"45\" stroke=\"none\" width=\"45\" x=\"335\" y=\"155\" /><rect class=\"square light a6\" fill=\"#ffce9e\" height=\"45\" stroke=\"none\" width=\"45\" x=\"20\" y=\"110\" /><rect class=\"square dark b6\" fill=\"#d18b47\" height=\"45\" stroke=\"none\" width=\"45\" x=\"65\" y=\"110\" /><rect class=\"square light c6\" fill=\"#ffce9e\" height=\"45\" stroke=\"none\" width=\"45\" x=\"110\" y=\"110\" /><rect class=\"square dark d6\" fill=\"#d18b47\" height=\"45\" stroke=\"none\" width=\"45\" x=\"155\" y=\"110\" /><rect class=\"square light e6\" fill=\"#ffce9e\" height=\"45\" stroke=\"none\" width=\"45\" x=\"200\" y=\"110\" /><rect class=\"square dark f6\" fill=\"#d18b47\" height=\"45\" stroke=\"none\" width=\"45\" x=\"245\" y=\"110\" /><rect class=\"square light g6\" fill=\"#ffce9e\" height=\"45\" stroke=\"none\" width=\"45\" x=\"290\" y=\"110\" /><rect class=\"square dark h6\" fill=\"#d18b47\" height=\"45\" stroke=\"none\" width=\"45\" x=\"335\" y=\"110\" /><rect class=\"square dark a7\" fill=\"#d18b47\" height=\"45\" stroke=\"none\" width=\"45\" x=\"20\" y=\"65\" /><rect class=\"square light b7\" fill=\"#ffce9e\" height=\"45\" stroke=\"none\" width=\"45\" x=\"65\" y=\"65\" /><use transform=\"translate(65, 65)\" xlink:href=\"#white-king\" /><rect class=\"square dark lastmove c7\" fill=\"#aaa23b\" height=\"45\" stroke=\"none\" width=\"45\" x=\"110\" y=\"65\" /><rect class=\"square light d7\" fill=\"#ffce9e\" height=\"45\" stroke=\"none\" width=\"45\" x=\"155\" y=\"65\" /><rect class=\"square dark e7\" fill=\"#d18b47\" height=\"45\" stroke=\"none\" width=\"45\" x=\"200\" y=\"65\" /><rect class=\"square light f7\" fill=\"#ffce9e\" height=\"45\" stroke=\"none\" width=\"45\" x=\"245\" y=\"65\" /><rect class=\"square dark g7\" fill=\"#d18b47\" height=\"45\" stroke=\"none\" width=\"45\" x=\"290\" y=\"65\" /><rect class=\"square light h7\" fill=\"#ffce9e\" height=\"45\" stroke=\"none\" width=\"45\" x=\"335\" y=\"65\" /><rect class=\"square light a8\" fill=\"#ffce9e\" height=\"45\" stroke=\"none\" width=\"45\" x=\"20\" y=\"20\" /><rect class=\"square dark b8\" fill=\"#d18b47\" height=\"45\" stroke=\"none\" width=\"45\" x=\"65\" y=\"20\" /><rect class=\"square light lastmove c8\" fill=\"#cdd16a\" height=\"45\" stroke=\"none\" width=\"45\" x=\"110\" y=\"20\" /><use transform=\"translate(110, 20)\" xlink:href=\"#white-knight\" /><rect class=\"square dark d8\" fill=\"#d18b47\" height=\"45\" stroke=\"none\" width=\"45\" x=\"155\" y=\"20\" /><rect class=\"square light e8\" fill=\"#ffce9e\" height=\"45\" stroke=\"none\" width=\"45\" x=\"200\" y=\"20\" /><rect class=\"square dark f8\" fill=\"#d18b47\" height=\"45\" stroke=\"none\" width=\"45\" x=\"245\" y=\"20\" /><rect class=\"square light g8\" fill=\"#ffce9e\" height=\"45\" stroke=\"none\" width=\"45\" x=\"290\" y=\"20\" /><rect class=\"square dark h8\" fill=\"#d18b47\" height=\"45\" stroke=\"none\" width=\"45\" x=\"335\" y=\"20\" /><text alignment-baseline=\"middle\" font-size=\"14\" text-anchor=\"middle\" x=\"42\" y=\"10\">a</text><text alignment-baseline=\"middle\" font-size=\"14\" text-anchor=\"middle\" x=\"42\" y=\"390\">a</text><text alignment-baseline=\"middle\" font-size=\"14\" text-anchor=\"middle\" x=\"87\" y=\"10\">b</text><text alignment-baseline=\"middle\" font-size=\"14\" text-anchor=\"middle\" x=\"87\" y=\"390\">b</text><text alignment-baseline=\"middle\" font-size=\"14\" text-anchor=\"middle\" x=\"132\" y=\"10\">c</text><text alignment-baseline=\"middle\" font-size=\"14\" text-anchor=\"middle\" x=\"132\" y=\"390\">c</text><text alignment-baseline=\"middle\" font-size=\"14\" text-anchor=\"middle\" x=\"177\" y=\"10\">d</text><text alignment-baseline=\"middle\" font-size=\"14\" text-anchor=\"middle\" x=\"177\" y=\"390\">d</text><text alignment-baseline=\"middle\" font-size=\"14\" text-anchor=\"middle\" x=\"222\" y=\"10\">e</text><text alignment-baseline=\"middle\" font-size=\"14\" text-anchor=\"middle\" x=\"222\" y=\"390\">e</text><text alignment-baseline=\"middle\" font-size=\"14\" text-anchor=\"middle\" x=\"267\" y=\"10\">f</text><text alignment-baseline=\"middle\" font-size=\"14\" text-anchor=\"middle\" x=\"267\" y=\"390\">f</text><text alignment-baseline=\"middle\" font-size=\"14\" text-anchor=\"middle\" x=\"312\" y=\"10\">g</text><text alignment-baseline=\"middle\" font-size=\"14\" text-anchor=\"middle\" x=\"312\" y=\"390\">g</text><text alignment-baseline=\"middle\" font-size=\"14\" text-anchor=\"middle\" x=\"357\" y=\"10\">h</text><text alignment-baseline=\"middle\" font-size=\"14\" text-anchor=\"middle\" x=\"357\" y=\"390\">h</text><text alignment-baseline=\"middle\" font-size=\"14\" text-anchor=\"middle\" x=\"10\" y=\"357\">1</text><text alignment-baseline=\"middle\" font-size=\"14\" text-anchor=\"middle\" x=\"390\" y=\"357\">1</text><text alignment-baseline=\"middle\" font-size=\"14\" text-anchor=\"middle\" x=\"10\" y=\"312\">2</text><text alignment-baseline=\"middle\" font-size=\"14\" text-anchor=\"middle\" x=\"390\" y=\"312\">2</text><text alignment-baseline=\"middle\" font-size=\"14\" text-anchor=\"middle\" x=\"10\" y=\"267\">3</text><text alignment-baseline=\"middle\" font-size=\"14\" text-anchor=\"middle\" x=\"390\" y=\"267\">3</text><text alignment-baseline=\"middle\" font-size=\"14\" text-anchor=\"middle\" x=\"10\" y=\"222\">4</text><text alignment-baseline=\"middle\" font-size=\"14\" text-anchor=\"middle\" x=\"390\" y=\"222\">4</text><text alignment-baseline=\"middle\" font-size=\"14\" text-anchor=\"middle\" x=\"10\" y=\"177\">5</text><text alignment-baseline=\"middle\" font-size=\"14\" text-anchor=\"middle\" x=\"390\" y=\"177\">5</text><text alignment-baseline=\"middle\" font-size=\"14\" text-anchor=\"middle\" x=\"10\" y=\"132\">6</text><text alignment-baseline=\"middle\" font-size=\"14\" text-anchor=\"middle\" x=\"390\" y=\"132\">6</text><text alignment-baseline=\"middle\" font-size=\"14\" text-anchor=\"middle\" x=\"10\" y=\"87\">7</text><text alignment-baseline=\"middle\" font-size=\"14\" text-anchor=\"middle\" x=\"390\" y=\"87\">7</text><text alignment-baseline=\"middle\" font-size=\"14\" text-anchor=\"middle\" x=\"10\" y=\"42\">8</text><text alignment-baseline=\"middle\" font-size=\"14\" text-anchor=\"middle\" x=\"390\" y=\"42\">8</text></svg>"
            ]
          },
          "metadata": {}
        },
        {
          "output_type": "stream",
          "name": "stdout",
          "text": [
            "draw: insufficient material\n"
          ]
        },
        {
          "output_type": "execute_result",
          "data": {
            "text/plain": [
              "(None,\n",
              " 'draw: insufficient material',\n",
              " Board('2N5/1K6/8/2k5/8/8/8/8 b - - 0 171'),\n",
              " 0)"
            ]
          },
          "metadata": {},
          "execution_count": 183
        }
      ]
    }
  ],
  "metadata": {
    "colab": {
      "collapsed_sections": [],
      "name": "Welcome To Colaboratory",
      "provenance": [],
      "include_colab_link": true
    },
    "kernelspec": {
      "display_name": "Python 3",
      "name": "python3"
    }
  },
  "nbformat": 4,
  "nbformat_minor": 0
}